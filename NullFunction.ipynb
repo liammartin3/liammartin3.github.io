{
 "cells": [
  {
   "cell_type": "code",
   "execution_count": 1,
   "metadata": {},
   "outputs": [],
   "source": [
    "def fix_NaN(geodatabase, fc):\n",
    "    import os\n",
    "    import pandas as pd\n",
    "    import arcgis \n",
    "    \n",
    "    fcPath = os.path.join(geodatabase, fc)\n",
    "    print(\"File path has been created.\")\n",
    "    \n",
    "    sdf = pd.DataFrame.spatial.from_featureclass(fcPath)\n",
    "    NaN_df = sdf.loc[:,sdf.isna().any()]\n",
    "    NaN_df = NaN_df.copy()\n",
    "    column_headers = list(NaN_df.columns.values)\n",
    "    print(\"Columns with NaN values have been identified.\")\n",
    "    \n",
    "    for x in column_headers:\n",
    "        median_value = NaN_df[x].median()\n",
    "        NaN_df[x].fillna(value = median_value, inplace = True)\n",
    "        sdf[x] = NaN_df[x]\n",
    "    print(\"NaN values have been populated with median value for each column.\")\n",
    "        \n",
    "    out_fc = os.path.join(fcPath + '__Median')                                                                                                                    \n",
    "    sdf.spatial.to_featureclass(out_fc)\n",
    "    print(\"Pandas data frame has been converted to a feature class.\")"
   ]
  }
 ],
 "metadata": {
  "kernelspec": {
   "display_name": "ArcGISPro",
   "language": "Python",
   "name": "python3"
  },
  "language_info": {
   "file_extension": ".py",
   "name": "python",
   "version": "3"
  }
 },
 "nbformat": 4,
 "nbformat_minor": 2
}
